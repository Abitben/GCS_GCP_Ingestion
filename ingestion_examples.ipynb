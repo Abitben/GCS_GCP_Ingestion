{
 "cells": [
  {
   "cell_type": "markdown",
   "metadata": {},
   "source": [
    "# From File (including URL to download a file) to GCS"
   ]
  },
  {
   "cell_type": "code",
   "execution_count": null,
   "metadata": {},
   "outputs": [],
   "source": [
    "from gcp_ingestion import FromFileToGCS\n",
    "\n",
    "# #usage exemple from URL to GCS\n",
    "bucket_name = f\"raw_geodata\"\n",
    "credentials_path = 'service_account.json' # JSON key from BigQuery service account, must have a Storage Admin role\n",
    "\n",
    "# list of urls to download with the destination name of the blob in GCS\n",
    "list_url_blob = []\n",
    "for year in range(2018, 2024):\n",
    "    url = f'https://files.data.gouv.fr/geo-dvf/latest/csv/{year}/full.csv.gz'\n",
    "    destination_blob_name = f'geo_dvf_{year}.gz'\n",
    "    dict_url_dest = {'url' : url, \n",
    "                     'destination_blob_name' : destination_blob_name }\n",
    "    list_url_blob.append(dict_url_dest)\n",
    "\n",
    "\n",
    "\n",
    "processor = FromFileToGCS(bucket_name, credentials_path)\n",
    "# create the bucket in GCS, if it doesn't exist, otherwise do nothing\n",
    "processor.create_bucket() \n",
    "\n",
    "# loop to download the data from the url and upload it to GCS\n",
    "for el in list_url_blob :\n",
    "    url = el['url']\n",
    "    destination_blob_name = el['destination_blob_name']\n",
    "    processor.download_and_upload_from_URL(url, destination_blob_name)\n",
    "\n",
    "# list the blobs in the bucket\n",
    "blobs = processor.list_blobs()\n",
    "# print the list of blobs, you can choose which one to extract and upload\n",
    "print(blobs)\n",
    "# extract and upload the data from the list of blobs (GCS format)\n",
    "processor.extract_and_upload_sel(blobs)\n"
   ]
  },
  {
   "cell_type": "markdown",
   "metadata": {},
   "source": [
    "# From local file to GCS "
   ]
  },
  {
   "cell_type": "code",
   "execution_count": null,
   "metadata": {},
   "outputs": [],
   "source": [
    "from gcp_ingestion import FromFileToGCS\n",
    "\n",
    "#usage exemple from local to GCS\n",
    "bucket_name = f\"raw_geodata_local_files\"\n",
    "credentials_path = 'service_account.json' # JSON key from BigQuery service account, must have a Storage Admin role\n",
    "\n",
    "# list of local files to upload with the destination name of the blob in GCS\n",
    "processor = FromFileToGCS(bucket_name, credentials_path)\n",
    "processor.create_bucket()\n",
    "processor.local_to_gcs('full.csv.gz', 'geo_dvf_2023.gz')\n",
    "blobs = processor.list_blobs()\n",
    "processor.extract_and_upload_sel(blobs)"
   ]
  },
  {
   "cell_type": "markdown",
   "metadata": {},
   "source": [
    "# From GCS to Bigquery"
   ]
  },
  {
   "cell_type": "code",
   "execution_count": 1,
   "metadata": {},
   "outputs": [
    {
     "name": "stdout",
     "output_type": "stream",
     "text": [
      "\u001b[32mCreated dataset (or already exists) blablacar-ae-case-study.raw_data\u001b[0m\n",
      "raw_geodata\n",
      "raw_csv/geo_dvf_2018.csv\n",
      "raw_csv/geo_dvf_2019.csv\n",
      "raw_csv/geo_dvf_2020.csv\n",
      "raw_csv/geo_dvf_2021.csv\n",
      "raw_csv/geo_dvf_2022.csv\n",
      "raw_csv/geo_dvf_2023.csv\n"
     ]
    },
    {
     "name": "stderr",
     "output_type": "stream",
     "text": [
      "/Users/benjamindupaquier/Documents/Le Wagon/alina/gcp_ingestion.py:282: DtypeWarning: Columns (10,12,14,16,17,18,20,22) have mixed types. Specify dtype option on import or set low_memory=False.\n",
      "  df = pd.read_csv(StringIO(blob_data))\n"
     ]
    },
    {
     "name": "stdout",
     "output_type": "stream",
     "text": [
      "\u001b[34mraw_csv/geo_dvf_2018.csv\u001b[0m\n"
     ]
    },
    {
     "name": "stderr",
     "output_type": "stream",
     "text": [
      "1it [01:14, 74.61s/it]\n"
     ]
    },
    {
     "name": "stdout",
     "output_type": "stream",
     "text": [
      "\u001b[32mraw_csv/geo_dvf_2018.csv is uploaded to blablacar-ae-case-study.raw_data.geo_dvf_2018\u001b[0m\n"
     ]
    },
    {
     "ename": "KeyboardInterrupt",
     "evalue": "",
     "output_type": "error",
     "traceback": [
      "\u001b[0;31m---------------------------------------------------------------------------\u001b[0m",
      "\u001b[0;31mKeyboardInterrupt\u001b[0m                         Traceback (most recent call last)",
      "\u001b[1;32m/Users/benjamindupaquier/Documents/Le Wagon/alina/ingestion_examples-f.ipynb Cellule 6\u001b[0m line \u001b[0;36m1\n\u001b[1;32m     <a href='vscode-notebook-cell:/Users/benjamindupaquier/Documents/Le%20Wagon/alina/ingestion_examples-f.ipynb#W5sZmlsZQ%3D%3D?line=11'>12</a>\u001b[0m \u001b[39mfor\u001b[39;00m blob \u001b[39min\u001b[39;00m blobs:\n\u001b[1;32m     <a href='vscode-notebook-cell:/Users/benjamindupaquier/Documents/Le%20Wagon/alina/ingestion_examples-f.ipynb#W5sZmlsZQ%3D%3D?line=12'>13</a>\u001b[0m     \u001b[39mprint\u001b[39m(blob\u001b[39m.\u001b[39mname)\n\u001b[0;32m---> <a href='vscode-notebook-cell:/Users/benjamindupaquier/Documents/Le%20Wagon/alina/ingestion_examples-f.ipynb#W5sZmlsZQ%3D%3D?line=13'>14</a>\u001b[0m processor_bq\u001b[39m.\u001b[39;49mupload_to_bq(blobs)\n",
      "File \u001b[0;32m~/Documents/Le Wagon/alina/gcp_ingestion.py:281\u001b[0m, in \u001b[0;36mFromGCStoGBQ.upload_to_bq\u001b[0;34m(self, blobs)\u001b[0m\n\u001b[1;32m    272\u001b[0m \u001b[39m\u001b[39m\u001b[39m\"\"\"\u001b[39;00m\n\u001b[1;32m    273\u001b[0m \u001b[39mUploads blobs data to BigQuery\u001b[39;00m\n\u001b[1;32m    274\u001b[0m \n\u001b[0;32m   (...)\u001b[0m\n\u001b[1;32m    278\u001b[0m \u001b[39m    a list of blobs to be uploaded\u001b[39;00m\n\u001b[1;32m    279\u001b[0m \u001b[39m\"\"\"\u001b[39;00m\n\u001b[1;32m    280\u001b[0m \u001b[39mfor\u001b[39;00m blob \u001b[39min\u001b[39;00m blobs:\n\u001b[0;32m--> 281\u001b[0m     blob_data \u001b[39m=\u001b[39m blob\u001b[39m.\u001b[39;49mdownload_as_text()\n\u001b[1;32m    282\u001b[0m     df \u001b[39m=\u001b[39m pd\u001b[39m.\u001b[39mread_csv(StringIO(blob_data))\n\u001b[1;32m    283\u001b[0m     \u001b[39mprint\u001b[39m(\u001b[39mf\u001b[39m\u001b[39m\"\u001b[39m\u001b[39m{\u001b[39;00mFore\u001b[39m.\u001b[39mBLUE\u001b[39m}\u001b[39;00m\u001b[39m{\u001b[39;00mblob\u001b[39m.\u001b[39mname\u001b[39m}\u001b[39;00m\u001b[39m{\u001b[39;00mStyle\u001b[39m.\u001b[39mRESET_ALL\u001b[39m}\u001b[39;00m\u001b[39m\"\u001b[39m)\n",
      "File \u001b[0;32m~/anaconda3/lib/python3.10/site-packages/google/cloud/storage/blob.py:1636\u001b[0m, in \u001b[0;36mBlob.download_as_text\u001b[0;34m(self, client, start, end, raw_download, encoding, if_etag_match, if_etag_not_match, if_generation_match, if_generation_not_match, if_metageneration_match, if_metageneration_not_match, timeout, retry)\u001b[0m\n\u001b[1;32m   1633\u001b[0m     \u001b[39mif\u001b[39;00m \u001b[39m\"\u001b[39m\u001b[39mcharset\u001b[39m\u001b[39m\"\u001b[39m \u001b[39min\u001b[39;00m params:\n\u001b[1;32m   1634\u001b[0m         \u001b[39mreturn\u001b[39;00m data\u001b[39m.\u001b[39mdecode(params[\u001b[39m\"\u001b[39m\u001b[39mcharset\u001b[39m\u001b[39m\"\u001b[39m])\n\u001b[0;32m-> 1636\u001b[0m \u001b[39mreturn\u001b[39;00m data\u001b[39m.\u001b[39;49mdecode(\u001b[39m\"\u001b[39;49m\u001b[39mutf-8\u001b[39;49m\u001b[39m\"\u001b[39;49m)\n",
      "\u001b[0;31mKeyboardInterrupt\u001b[0m: "
     ]
    }
   ],
   "source": [
    "from gcp_ingestion import FromGCStoGBQ\n",
    "\n",
    "# usage exemple\n",
    "credentials_path = 'service_account.json'\n",
    "project_id = 'blablacar-ae-case-study'\n",
    "dataset_name = 'raw_data'\n",
    "bucket_name = 'raw_geodata'\n",
    "\n",
    "processor_bq = FromGCStoGBQ(credentials_path, project_id, dataset_name, bucket_name)\n",
    "processor_bq.create_dataset()\n",
    "blobs = processor_bq.list_blobs()\n",
    "for blob in blobs:\n",
    "    print(blob.name)\n",
    "processor_bq.upload_to_bq(blobs)"
   ]
  }
 ],
 "metadata": {
  "kernelspec": {
   "display_name": "base",
   "language": "python",
   "name": "python3"
  },
  "language_info": {
   "codemirror_mode": {
    "name": "ipython",
    "version": 3
   },
   "file_extension": ".py",
   "mimetype": "text/x-python",
   "name": "python",
   "nbconvert_exporter": "python",
   "pygments_lexer": "ipython3",
   "version": "3.10.9"
  }
 },
 "nbformat": 4,
 "nbformat_minor": 2
}

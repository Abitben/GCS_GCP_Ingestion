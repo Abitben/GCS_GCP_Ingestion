{
 "cells": [
  {
   "cell_type": "markdown",
   "metadata": {},
   "source": [
    "# From File (including URL to download a file) to GCS"
   ]
  },
  {
   "cell_type": "code",
   "execution_count": null,
   "metadata": {},
   "outputs": [],
   "source": [
    "from gcp_ingestion import FromFileToGCS\n",
    "\n",
    "# #usage exemple from URL to GCS\n",
    "bucket_name = f\"raw_geodata\"\n",
    "credentials_path = 'service_account.json' # JSON key from BigQuery service account, must have a Storage Admin role\n",
    "\n",
    "# list of urls to download with the destination name of the blob in GCS\n",
    "list_url_blob = []\n",
    "for year in range(2018, 2024):\n",
    "    url = f'https://files.data.gouv.fr/geo-dvf/latest/csv/{year}/full.csv.gz'\n",
    "    destination_blob_name = f'geo_dvf_{year}.gz'\n",
    "    dict_url_dest = {'url' : url, \n",
    "                     'destination_blob_name' : destination_blob_name }\n",
    "    list_url_blob.append(dict_url_dest)\n",
    "\n",
    "\n",
    "\n",
    "processor = FromFileToGCS(bucket_name, credentials_path)\n",
    "# create the bucket in GCS, if it doesn't exist, otherwise do nothing\n",
    "processor.create_bucket() \n",
    "\n",
    "# loop to download the data from the url and upload it to GCS\n",
    "for el in list_url_blob :\n",
    "    url = el['url']\n",
    "    destination_blob_name = el['destination_blob_name']\n",
    "    processor.download_and_upload_from_URL(url, destination_blob_name)\n",
    "\n",
    "# list the blobs in the bucket\n",
    "blobs = processor.list_blobs()\n",
    "# print the list of blobs, you can choose which one to extract and upload\n",
    "print(blobs)\n",
    "# extract and upload the data from the list of blobs (GCS format)\n",
    "processor.extract_and_upload_sel(blobs)\n"
   ]
  },
  {
   "cell_type": "markdown",
   "metadata": {},
   "source": [
    "# From local file to GCS "
   ]
  },
  {
   "cell_type": "code",
   "execution_count": null,
   "metadata": {},
   "outputs": [],
   "source": [
    "from gcp_ingestion import FromFileToGCS\n",
    "\n",
    "#usage exemple from local to GCS\n",
    "bucket_name = f\"raw_geodata_local_files\"\n",
    "credentials_path = 'service_account.json' # JSON key from BigQuery service account, must have a Storage Admin role\n",
    "\n",
    "# list of local files to upload with the destination name of the blob in GCS\n",
    "processor = FromFileToGCS(bucket_name, credentials_path)\n",
    "processor.create_bucket()\n",
    "processor.local_to_gcs('full.csv.gz', 'geo_dvf_2023.gz')\n",
    "blobs = processor.list_blobs()\n",
    "processor.extract_and_upload_sel(blobs)"
   ]
  },
  {
   "cell_type": "code",
   "execution_count": null,
   "metadata": {},
   "outputs": [],
   "source": [
    "# From GCS to BigQuery"
   ]
  },
  {
   "cell_type": "code",
   "execution_count": null,
   "metadata": {},
   "outputs": [],
   "source": [
    "from gcp_ingestion import FromGCStoGBQ\n",
    "\n",
    "# usage exemple\n",
    "credentials_path = 'service_account.json'\n",
    "project_id = 'blablacar-ae-case-study'\n",
    "dataset_name = 'raw_data'\n",
    "bucket_name = 'raw_geodata'\n",
    "\n",
    "processor_bq = FromGCStoGBQ(credentials_path, project_id, dataset_name, bucket_name)\n",
    "processor_bq.create_dataset()\n",
    "blobs = processor_bq.list_blobs()\n",
    "for blob in blobs:\n",
    "    print(blob.name)\n",
    "processor_bq.upload_to_bq(blobs)"
   ]
  }
 ],
 "metadata": {
  "kernelspec": {
   "display_name": "base",
   "language": "python",
   "name": "python3"
  },
  "language_info": {
   "codemirror_mode": {
    "name": "ipython",
    "version": 3
   },
   "file_extension": ".py",
   "mimetype": "text/x-python",
   "name": "python",
   "nbconvert_exporter": "python",
   "pygments_lexer": "ipython3",
   "version": "3.10.9"
  }
 },
 "nbformat": 4,
 "nbformat_minor": 2
}
